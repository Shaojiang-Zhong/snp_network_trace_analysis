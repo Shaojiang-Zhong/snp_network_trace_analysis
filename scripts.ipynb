{
 "cells": [
  {
   "cell_type": "code",
   "execution_count": 1,
   "metadata": {
    "collapsed": false
   },
   "outputs": [],
   "source": [
    "import pyshark\n",
    "import re\n",
    "from pprint import pprint\n",
    "path_to_file = 'project2.trace'"
   ]
  },
  {
   "cell_type": "code",
   "execution_count": 7,
   "metadata": {
    "collapsed": false
   },
   "outputs": [
    {
     "name": "stdout",
     "output_type": "stream",
     "text": [
      "number of packets: 170\n"
     ]
    }
   ],
   "source": [
    "#Question 1\n",
    "filtered_cap = pyshark.FileCapture(path_to_file, display_filter='http.response')\n",
    "filtered_cap_list = list(filtered_cap)\n",
    "print \"number of packets: \" + str(len(filtered_cap_list))"
   ]
  },
  {
   "cell_type": "code",
   "execution_count": 12,
   "metadata": {
    "collapsed": false
   },
   "outputs": [
    {
     "name": "stdout",
     "output_type": "stream",
     "text": [
      "IP address(es) (36):\n",
      "155.111.186.252\n",
      "40.187.57.142\n",
      "93.119.134.44\n",
      "155.231.237.70\n",
      "159.79.22.249\n",
      "159.70.229.173\n",
      "35.183.215.204\n",
      "205.232.201.218\n",
      "93.199.112.45\n",
      "33.247.152.113\n",
      "142.165.192.188\n",
      "136.93.4.213\n",
      "143.138.66.97\n",
      "97.145.19.119\n",
      "44.111.85.82\n",
      "159.79.22.198\n",
      "205.234.49.157\n",
      "154.87.109.177\n",
      "44.131.48.102\n",
      "33.247.152.101\n",
      "159.79.22.194\n",
      "154.87.109.40\n",
      "248.78.109.66\n",
      "142.165.192.177\n",
      "34.30.235.180\n",
      "154.27.68.55\n",
      "111.4.186.50\n",
      "143.138.4.147\n",
      "37.199.226.67\n",
      "37.120.175.85\n",
      "205.232.203.30\n",
      "138.59.102.27\n",
      "143.179.11.189\n",
      "251.235.172.148\n",
      "44.131.51.48\n",
      "44.131.51.161\n"
     ]
    }
   ],
   "source": [
    "ip_dict = dict()\n",
    "for packet in filtered_cap_list:\n",
    "    if packet.ip:\n",
    "        ip_addr = packet.ip.src\n",
    "        if ip_addr in ip_dict:\n",
    "            ip_dict[ip_addr]+=1\n",
    "        else:\n",
    "            ip_dict[ip_addr]=1\n",
    "print \"IP address(es) (\" + str(len(ip_dict)) + \"):\"\n",
    "for key in ip_dict:\n",
    "    print key"
   ]
  },
  {
   "cell_type": "code",
   "execution_count": 8,
   "metadata": {
    "collapsed": true
   },
   "outputs": [],
   "source": [
    "#Question 2\n",
    "filtered_cap_2 = pyshark.FileCapture(path_to_file, display_filter='http.request.full_uri contains \"../../../\"')"
   ]
  },
  {
   "cell_type": "code",
   "execution_count": 9,
   "metadata": {
    "collapsed": false
   },
   "outputs": [
    {
     "name": "stdout",
     "output_type": "stream",
     "text": [
      "number of packets: 3\n"
     ]
    }
   ],
   "source": [
    "filtered_cap_list_2 = list(filtered_cap_2)\n",
    "print \"number of packets: \" + str(len(filtered_cap_list_2))"
   ]
  },
  {
   "cell_type": "code",
   "execution_count": 11,
   "metadata": {
    "collapsed": false
   },
   "outputs": [
    {
     "name": "stdout",
     "output_type": "stream",
     "text": [
      "IP address(es) (1):\n",
      "42.9.203.117\n"
     ]
    }
   ],
   "source": [
    "ip_dict_2 = dict()\n",
    "for packet in filtered_cap_list_2:\n",
    "    if packet['ip']:\n",
    "        ip_addr = packet['ip'].src\n",
    "        if ip_addr in ip_dict_2:\n",
    "            ip_dict_2[ip_addr]+=1\n",
    "        else:\n",
    "            ip_dict_2[ip_addr]=1\n",
    "print \"IP address(es) (\" + str(len(ip_dict_2)) + \"):\"\n",
    "for key in ip_dict_2:\n",
    "    print key"
   ]
  },
  {
   "cell_type": "code",
   "execution_count": 13,
   "metadata": {
    "collapsed": false
   },
   "outputs": [],
   "source": [
    "#Question 3\n",
    "filtered_cap_3 = pyshark.FileCapture(path_to_file, display_filter='ftp.request.command contains \"USER\" || ftp.request.command contains \"PASS\"')"
   ]
  },
  {
   "cell_type": "code",
   "execution_count": 14,
   "metadata": {
    "collapsed": false
   },
   "outputs": [
    {
     "name": "stdout",
     "output_type": "stream",
     "text": [
      "number of packets: 17\n"
     ]
    }
   ],
   "source": [
    "filtered_cap_list_3 = list(filtered_cap_3)\n",
    "print \"number of packets: \" + str(len(filtered_cap_list_3))"
   ]
  },
  {
   "cell_type": "code",
   "execution_count": 15,
   "metadata": {
    "collapsed": false
   },
   "outputs": [
    {
     "name": "stdout",
     "output_type": "stream",
     "text": [
      "IP address(es) (3):\n",
      "172.27.37.232 2\n",
      "251.215.184.138 2\n",
      "248.35.162.92 13\n"
     ]
    }
   ],
   "source": [
    "ip_dict_3 = dict()\n",
    "for packet in filtered_cap_list_3:\n",
    "    if packet['ip']:\n",
    "        ip_addr = packet['ip'].src\n",
    "        if ip_addr in ip_dict_3:\n",
    "            ip_dict_3[ip_addr]+=1\n",
    "        else:\n",
    "            ip_dict_3[ip_addr]=1\n",
    "print \"IP address(es) (\" + str(len(ip_dict_3)) + \"):\"\n",
    "for key in ip_dict_3:\n",
    "    print key, ip_dict_3[key]"
   ]
  },
  {
   "cell_type": "code",
   "execution_count": 18,
   "metadata": {
    "collapsed": false
   },
   "outputs": [
    {
     "name": "stdout",
     "output_type": "stream",
     "text": [
      "http.request.method == POST 0\n",
      "pop.request.command 0\n",
      "ftp.request.command 17\n",
      "telnet 3\n"
     ]
    }
   ],
   "source": [
    "#Question 4\n",
    "string_part_1 = ' contains \"USER\" || '\n",
    "string_part_2 = ' contains \"PASS\" ||'\n",
    "string_part_3 = ' contains \"username\" ||'\n",
    "string_part_4 = ' contains \"password\"'\n",
    "protocol_strings = [\"telnet\", \"ftp.request.command\", \"http.request.method == POST\", \"pop.request.command\"]\n",
    "filtered_cap_4_dict = dict()\n",
    "for x in protocol_strings:\n",
    "    filter_option = x+string_part_1+x+string_part_2+x+string_part_3+x+string_part_4\n",
    "    #print filter_option\n",
    "    temp_list = list(pyshark.FileCapture(path_to_file, display_filter=filter_option))\n",
    "    filtered_cap_4_dict[x]=temp_list\n",
    "for key in filtered_cap_4_dict:\n",
    "    print key, len(filtered_cap_4_dict[key])"
   ]
  },
  {
   "cell_type": "code",
   "execution_count": 20,
   "metadata": {
    "collapsed": false
   },
   "outputs": [
    {
     "name": "stdout",
     "output_type": "stream",
     "text": [
      "IP addresses and TCP streams of interest:\n",
      "['251.215.184.138', '172.27.37.232'] ['28', '55']\n"
     ]
    }
   ],
   "source": [
    "#script to check ftp first\n",
    "\"\"\"\n",
    "This function checks if a response packet is success or failure based on the sequence number of the\n",
    "response packet, as well as lists of known success/fail response packets.\n",
    "\"\"\"\n",
    "def check_response(ack_seq, success_response_packets, fail_response_packets):\n",
    "    for packet in success_response_packets:\n",
    "        if packet.tcp.seq == ack_seq:\n",
    "            return \"success\"\n",
    "    for packet in fail_response_packets:\n",
    "        if packet.tcp.seq == ack_seq:\n",
    "            return \"fail\"\n",
    "    return \"error\"\n",
    "\n",
    "\"\"\"\n",
    "This part identify successful login attempts and stores the source ip and stream number.\n",
    "\"\"\"\n",
    "ftp_success_response_packets_list = list(pyshark.FileCapture(path_to_file, display_filter='ftp.response.code == 230'))\n",
    "ftp_fail_response_packets_list = list(pyshark.FileCapture(path_to_file, display_filter='ftp.response.code == 530'))\n",
    "ftp_pass_packets_list = list(pyshark.FileCapture(path_to_file, display_filter='ftp.request.command contains \"PASS\"'))\n",
    "ip_of_interest_list = []\n",
    "streams_of_interest = []\n",
    "for packet in ftp_pass_packets_list:\n",
    "    stream = packet.tcp.stream\n",
    "    #curr_seq = packet.tcp.seq\n",
    "    ack_seq = packet.tcp.ack\n",
    "    curr_src_ip = packet.ip.src\n",
    "    if check_response(ack_seq, ftp_success_response_packets_list, ftp_fail_response_packets_list) == \"success\":\n",
    "        ip_of_interest_list.append(curr_src_ip)\n",
    "        streams_of_interest.append(stream)\n",
    "print \"IP addresses and TCP streams of interest:\"\n",
    "print ip_of_interest_list, streams_of_interest"
   ]
  },
  {
   "cell_type": "code",
   "execution_count": 21,
   "metadata": {
    "collapsed": false
   },
   "outputs": [
    {
     "name": "stdout",
     "output_type": "stream",
     "text": [
      "Login info found:\n",
      "{'172.27.37.232': {'PASS': 'thisissosecure', 'USER': 'calrules'},\n",
      " '251.215.184.138': {'PASS': '', 'USER': 'anonymous'}}\n"
     ]
    }
   ],
   "source": [
    "\"\"\"\n",
    "This part pulls out the user and pass we're interested in.\n",
    "\"\"\"\n",
    "login_info = dict()\n",
    "j = 0\n",
    "for ip in ip_of_interest_list:\n",
    "    arg_dict = dict()\n",
    "    for packet in filtered_cap_4_dict[\"ftp.request.command\"]:\n",
    "        if str(packet.ip.src)==ip and str(packet.tcp.stream)==str(streams_of_interest[j]):\n",
    "            temp_string = str(packet[\"ftp\"])\n",
    "            #print temp_string\n",
    "            array_split = re.split(' |\\n|\\r|\\t', temp_string)\n",
    "            #print array_split\n",
    "            i = 0\n",
    "            arg_value, arg_type = \"\", \"\"\n",
    "            for x in array_split:\n",
    "                if x == \"arg:\":\n",
    "                    arg_value = array_split[i+1]\n",
    "                    #print arg_value\n",
    "                if x == \"command:\":\n",
    "                    arg_type = array_split[i+1]\n",
    "                    #print arg_type\n",
    "                i += 1\n",
    "            arg_dict[arg_type] = arg_value\n",
    "    login_info[ip] = arg_dict\n",
    "    j+=1\n",
    "print \"Login info found:\"\n",
    "pprint(login_info)"
   ]
  },
  {
   "cell_type": "code",
   "execution_count": 23,
   "metadata": {
    "collapsed": false
   },
   "outputs": [
    {
     "name": "stdout",
     "output_type": "stream",
     "text": [
      "number of packets: 103\n"
     ]
    }
   ],
   "source": [
    "#Question 5\n",
    "filtered_cap_5 = list(pyshark.FileCapture(path_to_file, display_filter='http.server contains \"Apache/\"'))\n",
    "print \"number of packets: \" + str(len(filtered_cap_5))"
   ]
  },
  {
   "cell_type": "code",
   "execution_count": 24,
   "metadata": {
    "collapsed": false
   },
   "outputs": [
    {
     "name": "stdout",
     "output_type": "stream",
     "text": [
      "Server with oldest version:\n",
      "205.232.201.218 Apache/1.3.28 (Debian GNU/Linux)\n"
     ]
    }
   ],
   "source": [
    "def get_apache_ver(packet):\n",
    "    apache_ver = \"\"\n",
    "    txt = str(packet[\"http\"])\n",
    "    split_txt = txt.split(\" \")\n",
    "    for x in split_txt:\n",
    "        if \"Apache\" in x:\n",
    "            apache_ver = x\n",
    "    return apache_ver\n",
    "\n",
    "apache_ver_list = []\n",
    "for packet in filtered_cap_5:\n",
    "    apache_ver_list.append(get_apache_ver(packet))\n",
    "\n",
    "sorted_filtered_cap_5 = [x for (y,x) in sorted(zip(apache_ver_list, filtered_cap_5))]\n",
    "print \"Server with oldest version:\"\n",
    "print sorted_filtered_cap_5[0].ip.src, sorted_filtered_cap_5[0].http.server"
   ]
  },
  {
   "cell_type": "code",
   "execution_count": 25,
   "metadata": {
    "collapsed": false
   },
   "outputs": [
    {
     "name": "stdout",
     "output_type": "stream",
     "text": [
      "number of packets: 418\n"
     ]
    }
   ],
   "source": [
    "#Question 6\n",
    "filtered_cap_6 = list(pyshark.FileCapture(path_to_file, display_filter='dns.flags == 0x0100')) #recursive DNS\n",
    "print \"number of packets: \" + str(len(filtered_cap_6))"
   ]
  },
  {
   "cell_type": "code",
   "execution_count": 26,
   "metadata": {
    "collapsed": false,
    "scrolled": true
   },
   "outputs": [
    {
     "name": "stdout",
     "output_type": "stream",
     "text": [
      "IP addresses of DNS resolvers without port randomization:\n",
      "205.232.201.218\n",
      "205.232.201.195\n"
     ]
    }
   ],
   "source": [
    "ip_to_srcport = dict()\n",
    "for packet in filtered_cap_6:\n",
    "    ip_addr = str(packet.ip.src)\n",
    "    #print ip_addr\n",
    "    src_port = str(packet.udp.port)\n",
    "    #print src_port\n",
    "    if ip_addr not in ip_to_srcport:\n",
    "        ip_to_srcport[ip_addr] = []\n",
    "        #print ip_to_srcport[ip_addr]\n",
    "        ip_to_srcport[ip_addr].append(src_port)\n",
    "        #print ip_to_srcport[ip_addr]\n",
    "    else:\n",
    "        for port in ip_to_srcport[ip_addr]:\n",
    "            if src_port != port:\n",
    "                ip_to_srcport[ip_addr].append(src_port)\n",
    "                #print ip_to_srcport[ip_addr]\n",
    "                break\n",
    "print \"IP addresses of DNS resolvers without port randomization:\"\n",
    "for ip in ip_to_srcport:\n",
    "    port_list = ip_to_srcport[ip]\n",
    "    if len(port_list) == 1:\n",
    "        print ip"
   ]
  },
  {
   "cell_type": "code",
   "execution_count": 27,
   "metadata": {
    "collapsed": false
   },
   "outputs": [
    {
     "name": "stdout",
     "output_type": "stream",
     "text": [
      "number of packets: 108\n"
     ]
    }
   ],
   "source": [
    "#Question 7\n",
    "#0x02 = 000000010 2nd bit = SYN = sync seq no = only the first packet sent from each end should have this flag set\n",
    "filtered_cap_7 = list(pyshark.FileCapture(path_to_file, display_filter='tcp.flags == 0x02'))\n",
    "print \"number of packets: \" + str(len(filtered_cap_7))"
   ]
  },
  {
   "cell_type": "code",
   "execution_count": 63,
   "metadata": {
    "collapsed": false
   },
   "outputs": [],
   "source": [
    "ip_src_to_seq_nums = dict()\n",
    "for packet in filtered_cap_7:\n",
    "    src_ip = packet.ip.src\n",
    "    #dst_ip = packet.ip.dst\n",
    "    seq = packet.tcp.seq\n",
    "    #ip_pair = src_ip + \" \" + dst_ip\n",
    "    if src_ip not in ip_src_to_seq_nums:\n",
    "        ip_src_to_seq_nums[src_ip] = []\n",
    "    ip_src_to_seq_nums[src_ip].append(seq)\n",
    "#pprint(ip_src_to_seq_nums)"
   ]
  },
  {
   "cell_type": "code",
   "execution_count": 47,
   "metadata": {
    "collapsed": false
   },
   "outputs": [
    {
     "name": "stdout",
     "output_type": "stream",
     "text": [
      "Top 2 IP addresses with most random seq number ranges:\n",
      "251.215.153.250 3890239477\n",
      "205.232.201.195 243605121\n"
     ]
    }
   ],
   "source": [
    "ip_src_to_seq_range = dict()\n",
    "for ip in ip_src_to_seq_nums:\n",
    "    seq_range = 0\n",
    "    if len(ip_src_to_seq_nums[ip]) <= 4:\n",
    "        ip_src_to_seq_range[ip] = -1\n",
    "    else:\n",
    "        highest = 0\n",
    "        lowest = 0\n",
    "        for seq_num in ip_src_to_seq_nums[ip]:\n",
    "            if int(seq_num) > highest:\n",
    "                highest = int(seq_num)\n",
    "        lowest = highest\n",
    "        for seq_num in ip_src_to_seq_nums[ip]:\n",
    "            if int(seq_num) < lowest:\n",
    "                lowest = int(seq_num)\n",
    "        seq_range = highest - lowest\n",
    "        ip_src_to_seq_range[ip] = str(seq_range)\n",
    "        #print ip, highest, lowest, seq_range\n",
    "\n",
    "ip_src_list = []\n",
    "ip_range_list = []\n",
    "for ip in ip_src_to_seq_range:\n",
    "    ip_src_list.append(str(ip))\n",
    "    ip_range_list.append(int(ip_src_to_seq_range[ip]))\n",
    "sorted_ip_src_list = [x for (y,x) in sorted(zip(ip_range_list, ip_src_list))]\n",
    "sorted_range_list = sorted(ip_range_list)\n",
    "print \"Top 2 IP addresses with most random seq number ranges:\"\n",
    "print sorted_ip_src_list[-1], sorted_range_list[-1]\n",
    "print sorted_ip_src_list[-2], sorted_range_list[-2]"
   ]
  },
  {
   "cell_type": "code",
   "execution_count": 50,
   "metadata": {
    "collapsed": false,
    "scrolled": true
   },
   "outputs": [
    {
     "name": "stdout",
     "output_type": "stream",
     "text": [
      "number of packets: 355 (TTL: 1)\n",
      "number of packets: 30 (TTL: 2)\n",
      "number of packets: 30 (TTL: 3)\n",
      "number of packets: 30 (TTL: 4)\n",
      "number of packets: 30 (TTL: 5)\n"
     ]
    }
   ],
   "source": [
    "#Question 8\n",
    "filtered_cap_8_list_dict = dict()\n",
    "ttl_list = []\n",
    "for x in xrange(1,6):\n",
    "    ttl_list.append(x)\n",
    "for ttl in ttl_list:\n",
    "    query = 'udp && ip.ttl == ' + str(ttl)\n",
    "    filtered_cap_8_list_dict[ttl] = list(pyshark.FileCapture(path_to_file, display_filter=query))\n",
    "    print \"number of packets: \" + str(len(filtered_cap_8_list_dict[ttl])) + \" (TTL: \" + str(ttl) +\")\""
   ]
  },
  {
   "cell_type": "code",
   "execution_count": 54,
   "metadata": {
    "collapsed": false
   },
   "outputs": [
    {
     "name": "stdout",
     "output_type": "stream",
     "text": [
      "IP addresses and number of packets containing TTLs 1 to 5:\n",
      "{'172.18.74.109 172.25.130.244': {1: 2},\n",
      " '172.29.115.68 176.95.3.38': {1: 1},\n",
      " '172.31.250.21 172.25.130.244': {1: 2},\n",
      " '205.232.201.10 188.183.25.203': {1: 155},\n",
      " '205.232.201.11 188.183.25.203': {1: 165},\n",
      " '248.86.240.130 159.79.23.208': {1: 30, 2: 30, 3: 30, 4: 30, 5: 30}}\n"
     ]
    }
   ],
   "source": [
    "ip_to_ttl_increments = dict()\n",
    "for ttl in filtered_cap_8_list_dict:\n",
    "    for packet in filtered_cap_8_list_dict[ttl]:\n",
    "        ip_src = packet.ip.src\n",
    "        ip_dst = packet.ip.dst\n",
    "        ip_pair = ip_src + \" \" + ip_dst\n",
    "        if ip_pair not in ip_to_ttl_increments:\n",
    "            ttl_counts = dict()\n",
    "            ip_to_ttl_increments[ip_pair] = ttl_counts\n",
    "        if ttl not in ip_to_ttl_increments[ip_pair]:\n",
    "            ip_to_ttl_increments[ip_pair][ttl] = 0\n",
    "        ip_to_ttl_increments[ip_pair][ttl]+=1\n",
    "print \"IP addresses and number of packets containing TTLs 1 to 5:\"\n",
    "pprint(ip_to_ttl_increments)"
   ]
  },
  {
   "cell_type": "code",
   "execution_count": 56,
   "metadata": {
    "collapsed": false
   },
   "outputs": [
    {
     "name": "stdout",
     "output_type": "stream",
     "text": [
      "number of packets: 18\n"
     ]
    }
   ],
   "source": [
    "#Question 9\n",
    "filtered_cap_9_list = list(pyshark.FileCapture(path_to_file, display_filter='http.request.full_uri contains \"%3Cscript%3E\" || http.request.full_uri contains \"<script>\"'))\n",
    "print \"number of packets: \" + str(len(filtered_cap_9_list))"
   ]
  },
  {
   "cell_type": "code",
   "execution_count": 57,
   "metadata": {
    "collapsed": false,
    "scrolled": true
   },
   "outputs": [],
   "source": [
    "streams_to_ip = dict()\n",
    "for packet in filtered_cap_9_list:\n",
    "    ip_pair = packet.ip.src + \" \" + packet.ip.dst\n",
    "    tcp_stream = packet.tcp.stream\n",
    "    get_req = str(packet.http.chat)\n",
    "    if get_req.find(\"%3Cscript%3E\") != -1:\n",
    "        index_start = get_req.find(\"%3Cscript%3E\")\n",
    "        index_end = get_req.find(\"HTTP/\")-1\n",
    "        script_string = get_req[index_start:index_end]\n",
    "    elif get_req.find(\"<script>\") != -1:\n",
    "        index_start = get_req.find(\"<script>\")\n",
    "        index_end = get_req.find(\"HTTP/\")-1\n",
    "        script_string = get_req[index_start:index_end]\n",
    "    else:\n",
    "        script_string = \"none!\"\n",
    "        print \"error: no script string for stream \" + tcp_stream\n",
    "    streams_to_ip[tcp_stream] = [ip_pair, script_string]\n",
    "\n",
    "stream_http_response_ok_list = []\n",
    "for tcp_stream in streams_to_ip:\n",
    "    query = 'tcp.stream eq ' + tcp_stream + ' && http.response.code == 200'\n",
    "    stream_cap = list(pyshark.FileCapture(path_to_file, display_filter=query))\n",
    "    if stream_cap:\n",
    "        stream_http_response_ok_list.append(stream_cap)"
   ]
  },
  {
   "cell_type": "code",
   "execution_count": 64,
   "metadata": {
    "collapsed": false
   },
   "outputs": [
    {
     "name": "stdout",
     "output_type": "stream",
     "text": [
      "Script contents with list index, ip server/client, http response, number of times the script appears in html:\n",
      "alert('struts_sa_surl_xss.nasl')\n",
      "index 0, 159.79.22.249 251.215.153.250, http OK, 0\n",
      "alert(123456789)\n",
      "index 1, 44.111.85.82 251.215.76.253, http OK, 11\n",
      "document.cookie=%22testhzlg=9267;%22\n",
      "index 2, 159.79.22.249 251.215.153.250, http OK, 0\n",
      "alert('struts_sa_surl_xss.nasl')\n",
      "index 3, 159.79.22.249 251.215.153.250, http OK, 0\n",
      "alert('struts_sa_surl_xss.nasl')\n",
      "index 4, 159.79.22.249 251.215.153.250, http OK, 0\n",
      "foo\n",
      "index 5, 159.79.22.249 251.215.153.250, http OK, 0\n",
      "cross_site_scripting.nasl\n",
      "index 6, 159.79.22.249 251.215.153.250, http OK, 0\n"
     ]
    }
   ],
   "source": [
    "\"\"\"\n",
    "This function checks number of times a particular XSS appears in page source code.\n",
    "\"\"\"\n",
    "def check_stored_xss(packet, script_string):\n",
    "    page_data = str(packet['data-text-lines'])\n",
    "    if script_string[0:1]==\"%\":\n",
    "        script_string = script_string.replace(\"%3Cscript%3E\", \"\")\n",
    "        script_string = script_string.replace(\"%3C/script%3E\", \"\")\n",
    "        print script_string\n",
    "    elif script_string[0:1]==\"<\":\n",
    "        script_string = script_string.replace(\"<script>\", \"\")\n",
    "        script_string = script_string.replace(\"</script>\", \"\")\n",
    "        script_string = script_string.replace(\"</script\", \"\")\n",
    "        print script_string\n",
    "    instances = page_data.count(script_string)\n",
    "    return instances\n",
    "\n",
    "print \"Script contents with list index, ip server/client, http response, number of times the script appears in html:\"\n",
    "index = 0\n",
    "for stream_cap in stream_http_response_ok_list:\n",
    "    if len(stream_cap) == 1:\n",
    "        ip_pair = stream_cap[0].ip.src + \" \" + stream_cap[0].ip.dst\n",
    "        stream = stream_cap[0].tcp.stream\n",
    "        script_string = streams_to_ip[stream][1]\n",
    "        instances = check_stored_xss(stream_cap[0], script_string)\n",
    "        print \"index \" + str(index) + \", \" + ip_pair + \", \" + \"http OK, \" + str(instances)\n",
    "    else:\n",
    "        print \"error: more than one http ok packet\"\n",
    "    index += 1"
   ]
  },
  {
   "cell_type": "code",
   "execution_count": null,
   "metadata": {
    "collapsed": true
   },
   "outputs": [],
   "source": []
  }
 ],
 "metadata": {
  "kernelspec": {
   "display_name": "Python 2",
   "language": "python",
   "name": "python2"
  },
  "language_info": {
   "codemirror_mode": {
    "name": "ipython",
    "version": 2
   },
   "file_extension": ".py",
   "mimetype": "text/x-python",
   "name": "python",
   "nbconvert_exporter": "python",
   "pygments_lexer": "ipython2",
   "version": "2.7.10"
  }
 },
 "nbformat": 4,
 "nbformat_minor": 0
}
